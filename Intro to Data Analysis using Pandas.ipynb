{
 "cells": [
  {
   "cell_type": "markdown",
   "id": "dc96cb14-cc66-43e8-97f9-158275adfd35",
   "metadata": {},
   "source": [
    "# Introduction"
   ]
  },
  {
   "cell_type": "markdown",
   "id": "5b230760-65f4-4b3e-a873-0190da848011",
   "metadata": {},
   "source": [
    "pandas is one of the most powerful and widely used Python libraries for efficient data engineering. It is commonly used in combination with other analytical libraries such as scikit-lean, matplotlib, and statsmodel. This Notebook teaches the essential functionalities of pandas, including:\n",
    "- Creating pandas Series and DataFrame;\n",
    "- Manipulating pandas objects (e.g., reindexing, modifying, and deleting index);\n",
    "- Selecting data with loc and iloc;\n",
    "- Sorting and ranking data; and\n",
    "- Computing descriptive statistics."
   ]
  },
  {
   "cell_type": "markdown",
   "id": "cdf9bd83-2aae-442a-bb64-06781e04c080",
   "metadata": {},
   "source": [
    "# What is pandas?"
   ]
  },
  {
   "cell_type": "markdown",
   "id": "1cf22f81-1b1d-415b-82cb-2214764bc4a6",
   "metadata": {},
   "source": [
    "pandas is an open-source tool built on top of Python to make data cleaning and analysis fast and efficient. pandas leverages NumPy functionalities such as array-based computing, in particular array-based functions and a preference for data processing without `for` loops. The core difference between Numpy and pandas is that Numpy is developed for working with homogeneous numerical array data and pandas is best suited for working with tabular or heterogeneous data.\n",
    "\n"
   ]
  },
  {
   "cell_type": "markdown",
   "id": "d57b9cc1-d1c7-4959-b22a-d58e50d80cd2",
   "metadata": {},
   "source": [
    "## Installing Pandas"
   ]
  },
  {
   "cell_type": "markdown",
   "id": "2f7c359c-5369-4153-bcb9-54a2eb79b37a",
   "metadata": {},
   "source": [
    "The simplest way to install not only pandas, but Python and the most popular packages that make up the SciPy stack (e.g., NumPy, Matplotlib) is with [Anaconda](https://docs.continuum.io/anaconda/), a cross-platform Python distribution for data analytics and scientific computing.\n",
    "\n",
    "To install pandas using `conda`, the package manager that the Anaconda distribution is built upon, run the following command:\n",
    "`conda install pandas`"
   ]
  },
  {
   "cell_type": "markdown",
   "id": "78ba8023-0e94-44e1-93d7-e6c54540730d",
   "metadata": {},
   "source": [
    "## Importing Pandas"
   ]
  },
  {
   "cell_type": "markdown",
   "id": "002b5380-72af-4f74-a4a6-26ffeffae5f5",
   "metadata": {},
   "source": [
    "After installation, pandas can be imported as such:\n",
    "    \n",
    "`import pandas as pd`\n",
    "\n",
    "After import, whenever you see `pd.` in any of the code, it is referring to `pandas`."
   ]
  },
  {
   "cell_type": "markdown",
   "id": "f9fd1e75-0e42-4456-b5ab-ba7ccfeaa0ad",
   "metadata": {},
   "source": [
    "# Pandas Series"
   ]
  },
  {
   "cell_type": "markdown",
   "id": "f4c4f58d-33e3-4985-91bb-789e368ee08f",
   "metadata": {},
   "source": [
    "pandas is made up of two core data structures: **Series** and **DataFrame**"
   ]
  },
  {
   "cell_type": "markdown",
   "id": "1ae54b95-d2a3-4c53-9a67-bd684948aa9d",
   "metadata": {},
   "source": [
    "A Series is a one-dimensional array-like object that contains a sequence of values and an associated array of labels, called _index_. You can think of a Series as a fixed-length ordered dictionary, where each index is mapped to a value. "
   ]
  },
  {
   "cell_type": "code",
   "execution_count": 62,
   "id": "b0e014fd-bce5-42a1-93a4-9bec150b55a9",
   "metadata": {},
   "outputs": [],
   "source": [
    "import pandas as pd\n",
    "import numpy as np"
   ]
  },
  {
   "cell_type": "code",
   "execution_count": 2,
   "id": "99a1e43c-94be-47d0-b0bd-875ddd06de8d",
   "metadata": {},
   "outputs": [
    {
     "data": {
      "text/plain": [
       "0    6\n",
       "1    3\n",
       "2   -2\n",
       "3    7\n",
       "4   -2\n",
       "5   -2\n",
       "6    3\n",
       "7    0\n",
       "8    1\n",
       "dtype: int64"
      ]
     },
     "execution_count": 2,
     "metadata": {},
     "output_type": "execute_result"
    }
   ],
   "source": [
    "pObject = pd.Series([6,3,-2,7,-2,-2,3,0,1])\n",
    "pObject"
   ]
  },
  {
   "cell_type": "markdown",
   "id": "220df729-e6da-4c9a-9d30-0a8fd020b260",
   "metadata": {},
   "source": [
    "In the above example, `pObject` is a pandas Series. The index for this Series is displayed on the left (column 1) and the values are displayed on the right (column 2).\n",
    "\n",
    "Since we did not specify an index for the data, a default one consisting of integers starting at 0 to N-1 is created."
   ]
  },
  {
   "cell_type": "markdown",
   "id": "e3d83d93-4b9f-4483-8e0e-abc6d6eea3d9",
   "metadata": {},
   "source": [
    "To retrieve the array representation of the Series and index object, its values and index attributes can be used"
   ]
  },
  {
   "cell_type": "code",
   "execution_count": 7,
   "id": "e2c217ca-c232-4f32-91b6-44b61e83f1ee",
   "metadata": {},
   "outputs": [
    {
     "data": {
      "text/plain": [
       "array([ 6,  3, -2,  7, -2, -2,  3,  0,  1])"
      ]
     },
     "execution_count": 7,
     "metadata": {},
     "output_type": "execute_result"
    }
   ],
   "source": [
    "pObject.values #get array representation of the Series"
   ]
  },
  {
   "cell_type": "code",
   "execution_count": 6,
   "id": "d7c0b323-c24f-4a5a-bb0d-923181401aa5",
   "metadata": {},
   "outputs": [
    {
     "data": {
      "text/plain": [
       "RangeIndex(start=0, stop=9, step=1)"
      ]
     },
     "execution_count": 6,
     "metadata": {},
     "output_type": "execute_result"
    }
   ],
   "source": [
    "pObject.index #get index object"
   ]
  },
  {
   "cell_type": "markdown",
   "id": "c6ac0859-483e-40bd-92c1-181a4a29daca",
   "metadata": {},
   "source": [
    "  "
   ]
  },
  {
   "cell_type": "markdown",
   "id": "23dd258e-7aab-4e89-83c6-4cda62c6630b",
   "metadata": {},
   "source": [
    "In real-world applications, it is often useful to create a Series with an index identifying each data point with a label. Here we create a Series and specify the index using the `index=` keyword."
   ]
  },
  {
   "cell_type": "code",
   "execution_count": 9,
   "id": "d7c36e58-1eca-4586-a7db-d26470e0b0e4",
   "metadata": {},
   "outputs": [
    {
     "data": {
      "text/plain": [
       "p    6\n",
       "i    3\n",
       "y   -2\n",
       "a    7\n",
       "d   -2\n",
       "u   -2\n",
       "j    3\n",
       "q    0\n",
       "g    1\n",
       "dtype: int64"
      ]
     },
     "execution_count": 9,
     "metadata": {},
     "output_type": "execute_result"
    }
   ],
   "source": [
    "pObject = pd.Series([6,3,-2,7,-2,-2,3,0,1], index=['p','i','y','a','d','u','j','q','g'])\n",
    "pObject"
   ]
  },
  {
   "cell_type": "markdown",
   "id": "1320cf6b-6316-4f49-8fe5-213d24ed5ecb",
   "metadata": {},
   "source": [
    "Values in a Series can be selected using the labels in the index:"
   ]
  },
  {
   "cell_type": "code",
   "execution_count": 11,
   "id": "2ff29f94-922f-4c17-9c62-c9599e25371a",
   "metadata": {},
   "outputs": [
    {
     "data": {
      "text/plain": [
       "3"
      ]
     },
     "execution_count": 11,
     "metadata": {},
     "output_type": "execute_result"
    }
   ],
   "source": [
    "pObject['i']"
   ]
  },
  {
   "cell_type": "code",
   "execution_count": 12,
   "id": "3b6f5c98-ef18-435b-a475-f853b6bd9c66",
   "metadata": {},
   "outputs": [
    {
     "data": {
      "text/plain": [
       "i    3\n",
       "p    6\n",
       "q    0\n",
       "g    1\n",
       "dtype: int64"
      ]
     },
     "execution_count": 12,
     "metadata": {},
     "output_type": "execute_result"
    }
   ],
   "source": [
    "pObject[['i', 'p', 'q', 'g']]"
   ]
  },
  {
   "cell_type": "code",
   "execution_count": 13,
   "id": "d9c4e9dd-763d-45e2-ba4a-9ee665dffbc1",
   "metadata": {},
   "outputs": [
    {
     "data": {
      "text/plain": [
       "6"
      ]
     },
     "execution_count": 13,
     "metadata": {},
     "output_type": "execute_result"
    }
   ],
   "source": [
    "pObject['i'] = 6\n",
    "pObject['i']"
   ]
  },
  {
   "cell_type": "markdown",
   "id": "b48aa678-ae5a-49f7-8ea3-82c41ad83106",
   "metadata": {},
   "source": [
    "## Filtering"
   ]
  },
  {
   "cell_type": "markdown",
   "id": "2bf5022d-e916-4d74-ba21-3d0f3f6acdfd",
   "metadata": {},
   "source": [
    "It is possible to use Numpy-like operations, such as filtering with a boolean array, scalar multiplication, or applying math functions, on pandas Series. Using these operations will preserve the index-value link."
   ]
  },
  {
   "cell_type": "code",
   "execution_count": 16,
   "id": "4382fbfd-f39c-4385-979d-159243b79277",
   "metadata": {},
   "outputs": [
    {
     "data": {
      "text/plain": [
       "p    6\n",
       "i    6\n",
       "a    7\n",
       "j    3\n",
       "g    1\n",
       "dtype: int64"
      ]
     },
     "execution_count": 16,
     "metadata": {},
     "output_type": "execute_result"
    }
   ],
   "source": [
    "pObject[pObject >0] #filter the positive values"
   ]
  },
  {
   "cell_type": "code",
   "execution_count": 17,
   "id": "e6380b9d-4aee-4423-846f-a787db4527a7",
   "metadata": {},
   "outputs": [
    {
     "data": {
      "text/plain": [
       "p    30\n",
       "i    30\n",
       "y   -10\n",
       "a    35\n",
       "d   -10\n",
       "u   -10\n",
       "j    15\n",
       "q     0\n",
       "g     5\n",
       "dtype: int64"
      ]
     },
     "execution_count": 17,
     "metadata": {},
     "output_type": "execute_result"
    }
   ],
   "source": [
    "pObject*5 #multiply all values by 5"
   ]
  },
  {
   "cell_type": "code",
   "execution_count": 20,
   "id": "37693793-2789-4263-956b-2d12040f1c51",
   "metadata": {},
   "outputs": [
    {
     "data": {
      "text/plain": [
       "False"
      ]
     },
     "execution_count": 20,
     "metadata": {},
     "output_type": "execute_result"
    }
   ],
   "source": [
    "'c' in pObject #check if 'c' is a key in pObject"
   ]
  },
  {
   "cell_type": "code",
   "execution_count": 22,
   "id": "6fa7d116-f362-4ffd-82a6-63c5d35ce7fa",
   "metadata": {},
   "outputs": [
    {
     "data": {
      "text/plain": [
       "True"
      ]
     },
     "execution_count": 22,
     "metadata": {},
     "output_type": "execute_result"
    }
   ],
   "source": [
    "'i' in pObject #check if 'i' is a key in pObject"
   ]
  },
  {
   "cell_type": "markdown",
   "id": "96085b6f-c3f1-4745-b8b8-db53d18652b5",
   "metadata": {},
   "source": [
    "## Converting Python Dictionaties to Pandas Series"
   ]
  },
  {
   "cell_type": "markdown",
   "id": "291dc7e6-fba8-47ee-8587-14373465069d",
   "metadata": {},
   "source": [
    "If you already have data contained in a Python dictionary, it is very easy to create a Series from the dictionary. Simply pass the dictionary when creating the Series."
   ]
  },
  {
   "cell_type": "code",
   "execution_count": 29,
   "id": "df058aa9-2873-4b4e-899c-dfe03e352534",
   "metadata": {},
   "outputs": [
    {
     "data": {
      "text/plain": [
       "b    1\n",
       "d    2\n",
       "c    3\n",
       "dtype: int64"
      ]
     },
     "execution_count": 29,
     "metadata": {},
     "output_type": "execute_result"
    }
   ],
   "source": [
    "myDict = {'b': 1, 'd': 2, 'c': 3}\n",
    "pObject2 = pd.Series(myDict)\n",
    "pObject2"
   ]
  },
  {
   "cell_type": "markdown",
   "id": "09a39a29-779d-4b06-be91-8812fce10935",
   "metadata": {},
   "source": [
    "When you're passing a dictionary, the index in the resulting Series will be the dict's keys. It is also possible to pass another list to be used as as the index instead."
   ]
  },
  {
   "cell_type": "code",
   "execution_count": 31,
   "id": "85cb0d97-8fb7-431b-bfc3-bedd801eff98",
   "metadata": {},
   "outputs": [
    {
     "data": {
      "text/plain": [
       "a    NaN\n",
       "b    1.0\n",
       "c    3.0\n",
       "dtype: float64"
      ]
     },
     "execution_count": 31,
     "metadata": {},
     "output_type": "execute_result"
    }
   ],
   "source": [
    "myDict = {'b': 1, 'd': 2, 'c': 3}\n",
    "\n",
    "customKeys = ['a', 'b', 'c']\n",
    "pObject3 = pd.Series(myDict, index=customKeys)\n",
    "pObject3"
   ]
  },
  {
   "cell_type": "markdown",
   "id": "8b3ac24c-e4b9-4180-b3ba-ad1483a0bcc7",
   "metadata": {},
   "source": [
    "## isnull()"
   ]
  },
  {
   "cell_type": "markdown",
   "id": "27dadc6c-773b-4db7-a370-811a3310925f",
   "metadata": {},
   "source": [
    "In the above example, the keys `b` and `c` were found in `myDict` and placed in the appropriate locations. However, as no values were found for `a`, it appears as `NaN` (not a number) in the resulting Series.\n",
    "\n",
    "The `isnull()` and `notnull()` functions in pandas can be used to detect missing data:"
   ]
  },
  {
   "cell_type": "code",
   "execution_count": 32,
   "id": "2dfe2f28-91dc-4396-a947-b0888cf387fc",
   "metadata": {},
   "outputs": [
    {
     "data": {
      "text/plain": [
       "a     True\n",
       "b    False\n",
       "c    False\n",
       "dtype: bool"
      ]
     },
     "execution_count": 32,
     "metadata": {},
     "output_type": "execute_result"
    }
   ],
   "source": [
    "pd.isnull(pObject3)"
   ]
  },
  {
   "cell_type": "markdown",
   "id": "893a0136-3178-480e-937f-e41e2a5bce2b",
   "metadata": {},
   "source": [
    "## notnull()"
   ]
  },
  {
   "cell_type": "code",
   "execution_count": 33,
   "id": "0b48dd33-a3f9-4b11-9563-41873fe2b39a",
   "metadata": {},
   "outputs": [
    {
     "data": {
      "text/plain": [
       "a    False\n",
       "b     True\n",
       "c     True\n",
       "dtype: bool"
      ]
     },
     "execution_count": 33,
     "metadata": {},
     "output_type": "execute_result"
    }
   ],
   "source": [
    "pd.notnull(pObject3)"
   ]
  },
  {
   "cell_type": "markdown",
   "id": "489f397e-abed-4a2e-bd43-e467cd8dc8ea",
   "metadata": {},
   "source": [
    "The above function can also be called as an instance method:"
   ]
  },
  {
   "cell_type": "code",
   "execution_count": 34,
   "id": "3f2e73ef-aa98-4d75-9d51-01c2a6af8607",
   "metadata": {},
   "outputs": [
    {
     "data": {
      "text/plain": [
       "a    False\n",
       "b     True\n",
       "c     True\n",
       "dtype: bool"
      ]
     },
     "execution_count": 34,
     "metadata": {},
     "output_type": "execute_result"
    }
   ],
   "source": [
    "pObject3.notnull()"
   ]
  },
  {
   "cell_type": "markdown",
   "id": "5aee5680-c984-499d-a9d3-c68759f096b0",
   "metadata": {},
   "source": [
    "## Arithmetic Operations"
   ]
  },
  {
   "cell_type": "markdown",
   "id": "5687c676-a57c-4ca0-a28d-5338b2a3f718",
   "metadata": {},
   "source": [
    "A useful feature of pandas Series is that it automatically aligns by index label in arithmetic operations. This is similar to the `join` operation used in databases."
   ]
  },
  {
   "cell_type": "code",
   "execution_count": 39,
   "id": "bc210452-9e89-4669-8096-bdee816dbfc1",
   "metadata": {},
   "outputs": [],
   "source": [
    "obj1 = pd.Series([6,3,-2,7,-2,-2,3,0,1], index=['p','i','y','a','d','u','j','q','w'])\n",
    "obj2 = pd.Series([-4,8,8,8,6,-3,6,8,7], index=['p','i','y','a','d','u','j','q','g'])"
   ]
  },
  {
   "cell_type": "code",
   "execution_count": 40,
   "id": "420af1b5-9b6e-4ca6-ac75-9289f5d3c15f",
   "metadata": {},
   "outputs": [
    {
     "data": {
      "text/plain": [
       "a    15.0\n",
       "d     4.0\n",
       "g     NaN\n",
       "i    11.0\n",
       "j     9.0\n",
       "p     2.0\n",
       "q     8.0\n",
       "u    -5.0\n",
       "w     NaN\n",
       "y     6.0\n",
       "dtype: float64"
      ]
     },
     "execution_count": 40,
     "metadata": {},
     "output_type": "execute_result"
    }
   ],
   "source": [
    "obj1 + obj2"
   ]
  },
  {
   "cell_type": "markdown",
   "id": "26be58d6-8f46-4227-b9c7-c4a82efc7300",
   "metadata": {},
   "source": [
    "## pandas.Series.name"
   ]
  },
  {
   "cell_type": "markdown",
   "id": "3fad7a08-ade9-409a-8969-4493fb3d3765",
   "metadata": {},
   "source": [
    "In pandas, both the Series object and its index have a `name` attribute."
   ]
  },
  {
   "cell_type": "code",
   "execution_count": 46,
   "id": "165d32de-0c24-46b5-9389-ce8f708d967b",
   "metadata": {},
   "outputs": [],
   "source": [
    "obj1.name = 'Sample Data' #assign series name\n",
    "obj1.index.name = 'ind' #assign series index name"
   ]
  },
  {
   "cell_type": "code",
   "execution_count": 47,
   "id": "80b7b23d-a758-4ab5-bd02-1801b03a9ff2",
   "metadata": {},
   "outputs": [
    {
     "data": {
      "text/plain": [
       "ind\n",
       "p    6\n",
       "i    3\n",
       "y   -2\n",
       "a    7\n",
       "d   -2\n",
       "u   -2\n",
       "j    3\n",
       "q    0\n",
       "w    1\n",
       "Name: Sample Data, dtype: int64"
      ]
     },
     "execution_count": 47,
     "metadata": {},
     "output_type": "execute_result"
    }
   ],
   "source": [
    "obj1"
   ]
  },
  {
   "cell_type": "markdown",
   "id": "8acc4161-576b-415e-9372-a9d530c2ddc7",
   "metadata": {},
   "source": [
    "# Pandas DataFrames"
   ]
  },
  {
   "cell_type": "markdown",
   "id": "5bebe969-1c9e-4cb4-98df-b1dad7600235",
   "metadata": {},
   "source": [
    "The pandas DataFrame represents a rectangular table of data and contains an ordered collection of columns, each of which can be a different value type (numeric, string, boolean, etc.)."
   ]
  },
  {
   "cell_type": "markdown",
   "id": "77fe7afc-c5ae-4b62-b298-22e197135b90",
   "metadata": {},
   "source": [
    "There are many ways to create a DataFrame. A common approach is from a dictionary of equal-length lists or Numpy arrays."
   ]
  },
  {
   "cell_type": "code",
   "execution_count": 48,
   "id": "f3f75c5e-2807-448f-97cd-b157bf52016d",
   "metadata": {},
   "outputs": [],
   "source": [
    "data = {\"country\": [\"Belgium\", \"Norway\", \"Australia\", \"India\"],\n",
    "       \"capital\": [\"Brussels\",\"Oslo\",\"Canberra\",\"New Delhi\"],\n",
    "       \"population\":[1.7, 6.4, 3.9, 210]}"
   ]
  },
  {
   "cell_type": "code",
   "execution_count": 50,
   "id": "0bc189f8-e4bd-49ee-a622-1dc7382e8758",
   "metadata": {},
   "outputs": [
    {
     "data": {
      "text/html": [
       "<div>\n",
       "<style scoped>\n",
       "    .dataframe tbody tr th:only-of-type {\n",
       "        vertical-align: middle;\n",
       "    }\n",
       "\n",
       "    .dataframe tbody tr th {\n",
       "        vertical-align: top;\n",
       "    }\n",
       "\n",
       "    .dataframe thead th {\n",
       "        text-align: right;\n",
       "    }\n",
       "</style>\n",
       "<table border=\"1\" class=\"dataframe\">\n",
       "  <thead>\n",
       "    <tr style=\"text-align: right;\">\n",
       "      <th></th>\n",
       "      <th>country</th>\n",
       "      <th>capital</th>\n",
       "      <th>population</th>\n",
       "    </tr>\n",
       "  </thead>\n",
       "  <tbody>\n",
       "    <tr>\n",
       "      <th>0</th>\n",
       "      <td>Belgium</td>\n",
       "      <td>Brussels</td>\n",
       "      <td>1.7</td>\n",
       "    </tr>\n",
       "    <tr>\n",
       "      <th>1</th>\n",
       "      <td>Norway</td>\n",
       "      <td>Oslo</td>\n",
       "      <td>6.4</td>\n",
       "    </tr>\n",
       "    <tr>\n",
       "      <th>2</th>\n",
       "      <td>Australia</td>\n",
       "      <td>Canberra</td>\n",
       "      <td>3.9</td>\n",
       "    </tr>\n",
       "    <tr>\n",
       "      <th>3</th>\n",
       "      <td>India</td>\n",
       "      <td>New Delhi</td>\n",
       "      <td>210.0</td>\n",
       "    </tr>\n",
       "  </tbody>\n",
       "</table>\n",
       "</div>"
      ],
      "text/plain": [
       "     country    capital  population\n",
       "0    Belgium   Brussels         1.7\n",
       "1     Norway       Oslo         6.4\n",
       "2  Australia   Canberra         3.9\n",
       "3      India  New Delhi       210.0"
      ]
     },
     "execution_count": 50,
     "metadata": {},
     "output_type": "execute_result"
    }
   ],
   "source": [
    "myDataFrame = pd.DataFrame(data)\n",
    "myDataFrame"
   ]
  },
  {
   "cell_type": "markdown",
   "id": "740fe9c3-b261-44e5-b315-0370a4219d78",
   "metadata": {},
   "source": [
    "You can also specify the columns of DataFrame. If you pass a column that is not contained in the dictionary, it will appear with missing values in the result."
   ]
  },
  {
   "cell_type": "code",
   "execution_count": 53,
   "id": "82401454-8698-4b0f-adf2-831862473aaf",
   "metadata": {},
   "outputs": [
    {
     "data": {
      "text/html": [
       "<div>\n",
       "<style scoped>\n",
       "    .dataframe tbody tr th:only-of-type {\n",
       "        vertical-align: middle;\n",
       "    }\n",
       "\n",
       "    .dataframe tbody tr th {\n",
       "        vertical-align: top;\n",
       "    }\n",
       "\n",
       "    .dataframe thead th {\n",
       "        text-align: right;\n",
       "    }\n",
       "</style>\n",
       "<table border=\"1\" class=\"dataframe\">\n",
       "  <thead>\n",
       "    <tr style=\"text-align: right;\">\n",
       "      <th></th>\n",
       "      <th>country</th>\n",
       "      <th>capital</th>\n",
       "      <th>population</th>\n",
       "      <th>happiness index</th>\n",
       "    </tr>\n",
       "  </thead>\n",
       "  <tbody>\n",
       "    <tr>\n",
       "      <th>0</th>\n",
       "      <td>Belgium</td>\n",
       "      <td>Brussels</td>\n",
       "      <td>1.7</td>\n",
       "      <td>NaN</td>\n",
       "    </tr>\n",
       "    <tr>\n",
       "      <th>1</th>\n",
       "      <td>Norway</td>\n",
       "      <td>Oslo</td>\n",
       "      <td>6.4</td>\n",
       "      <td>NaN</td>\n",
       "    </tr>\n",
       "    <tr>\n",
       "      <th>2</th>\n",
       "      <td>Australia</td>\n",
       "      <td>Canberra</td>\n",
       "      <td>3.9</td>\n",
       "      <td>NaN</td>\n",
       "    </tr>\n",
       "    <tr>\n",
       "      <th>3</th>\n",
       "      <td>India</td>\n",
       "      <td>New Delhi</td>\n",
       "      <td>210.0</td>\n",
       "      <td>NaN</td>\n",
       "    </tr>\n",
       "  </tbody>\n",
       "</table>\n",
       "</div>"
      ],
      "text/plain": [
       "     country    capital  population happiness index\n",
       "0    Belgium   Brussels         1.7             NaN\n",
       "1     Norway       Oslo         6.4             NaN\n",
       "2  Australia   Canberra         3.9             NaN\n",
       "3      India  New Delhi       210.0             NaN"
      ]
     },
     "execution_count": 53,
     "metadata": {},
     "output_type": "execute_result"
    }
   ],
   "source": [
    "myDataFrame2 = pd.DataFrame(data, columns=[\"country\",\"capital\",\"population\",\"happiness index\"])\n",
    "myDataFrame2"
   ]
  },
  {
   "cell_type": "markdown",
   "id": "b9f86a4e-878f-49a5-bebf-0b5deea1eb43",
   "metadata": {},
   "source": [
    "## .head()"
   ]
  },
  {
   "cell_type": "markdown",
   "id": "e2a16b10-06ad-4684-9614-c0e349774de8",
   "metadata": {},
   "source": [
    "If you have a large DataFrame, the `.head()` method can be used to select the first five rows."
   ]
  },
  {
   "cell_type": "code",
   "execution_count": 51,
   "id": "53b859f3-68d2-4ddd-8c38-21f0ed61afdf",
   "metadata": {},
   "outputs": [
    {
     "data": {
      "text/html": [
       "<div>\n",
       "<style scoped>\n",
       "    .dataframe tbody tr th:only-of-type {\n",
       "        vertical-align: middle;\n",
       "    }\n",
       "\n",
       "    .dataframe tbody tr th {\n",
       "        vertical-align: top;\n",
       "    }\n",
       "\n",
       "    .dataframe thead th {\n",
       "        text-align: right;\n",
       "    }\n",
       "</style>\n",
       "<table border=\"1\" class=\"dataframe\">\n",
       "  <thead>\n",
       "    <tr style=\"text-align: right;\">\n",
       "      <th></th>\n",
       "      <th>country</th>\n",
       "      <th>capital</th>\n",
       "      <th>population</th>\n",
       "    </tr>\n",
       "  </thead>\n",
       "  <tbody>\n",
       "    <tr>\n",
       "      <th>0</th>\n",
       "      <td>Belgium</td>\n",
       "      <td>Brussels</td>\n",
       "      <td>1.7</td>\n",
       "    </tr>\n",
       "    <tr>\n",
       "      <th>1</th>\n",
       "      <td>Norway</td>\n",
       "      <td>Oslo</td>\n",
       "      <td>6.4</td>\n",
       "    </tr>\n",
       "    <tr>\n",
       "      <th>2</th>\n",
       "      <td>Australia</td>\n",
       "      <td>Canberra</td>\n",
       "      <td>3.9</td>\n",
       "    </tr>\n",
       "    <tr>\n",
       "      <th>3</th>\n",
       "      <td>India</td>\n",
       "      <td>New Delhi</td>\n",
       "      <td>210.0</td>\n",
       "    </tr>\n",
       "  </tbody>\n",
       "</table>\n",
       "</div>"
      ],
      "text/plain": [
       "     country    capital  population\n",
       "0    Belgium   Brussels         1.7\n",
       "1     Norway       Oslo         6.4\n",
       "2  Australia   Canberra         3.9\n",
       "3      India  New Delhi       210.0"
      ]
     },
     "execution_count": 51,
     "metadata": {},
     "output_type": "execute_result"
    }
   ],
   "source": [
    "myDataFrame.head()"
   ]
  },
  {
   "cell_type": "markdown",
   "id": "53ec2d51-c0b4-4921-b75d-77a9d60a8451",
   "metadata": {},
   "source": [
    "## Accessing columns of a DataFrame"
   ]
  },
  {
   "cell_type": "markdown",
   "id": "cfb05590-d4fd-4ea2-9575-c3333bf5d222",
   "metadata": {},
   "source": [
    "When you access a column/columns of a DataFrame, it is retrived as a Series. Note that the column returned from indexing a DataFrame is a _view_ on the underlying data, not a copy. Thus, any in-place modifications to the Series will be reflected in the DataFrame."
   ]
  },
  {
   "cell_type": "code",
   "execution_count": 55,
   "id": "e262081a-028d-4308-8221-34eef71e21cc",
   "metadata": {},
   "outputs": [
    {
     "data": {
      "text/plain": [
       "0      1.7\n",
       "1      6.4\n",
       "2      3.9\n",
       "3    210.0\n",
       "Name: population, dtype: float64"
      ]
     },
     "execution_count": 55,
     "metadata": {},
     "output_type": "execute_result"
    }
   ],
   "source": [
    "myDataFrame2['population'] #accessing the population column using the dictionary-like notation"
   ]
  },
  {
   "cell_type": "code",
   "execution_count": 58,
   "id": "c574bd0b-0314-469e-b968-a0db56f6e617",
   "metadata": {},
   "outputs": [
    {
     "data": {
      "text/plain": [
       "0      1.7\n",
       "1      6.4\n",
       "2      3.9\n",
       "3    210.0\n",
       "Name: population, dtype: float64"
      ]
     },
     "execution_count": 58,
     "metadata": {},
     "output_type": "execute_result"
    }
   ],
   "source": [
    "myDataFrame2.population #accessing the population column by the attribute (i.e., attribute-like access)"
   ]
  },
  {
   "cell_type": "markdown",
   "id": "7b0bcc07-7205-440b-b1f8-9e5e45c0fb34",
   "metadata": {},
   "source": [
    "## Modifying columns of a DataFrame"
   ]
  },
  {
   "cell_type": "markdown",
   "id": "43330f21-8534-4e16-90d6-7d6957e70464",
   "metadata": {},
   "source": [
    "Columns of a DataFrame can be modified by assignment. For example, the empty happiness index could be assigned a scalar value or a list of values:"
   ]
  },
  {
   "cell_type": "code",
   "execution_count": 60,
   "id": "483d7a42-c3a3-4547-a7bc-2fcd835dfb06",
   "metadata": {},
   "outputs": [
    {
     "data": {
      "text/html": [
       "<div>\n",
       "<style scoped>\n",
       "    .dataframe tbody tr th:only-of-type {\n",
       "        vertical-align: middle;\n",
       "    }\n",
       "\n",
       "    .dataframe tbody tr th {\n",
       "        vertical-align: top;\n",
       "    }\n",
       "\n",
       "    .dataframe thead th {\n",
       "        text-align: right;\n",
       "    }\n",
       "</style>\n",
       "<table border=\"1\" class=\"dataframe\">\n",
       "  <thead>\n",
       "    <tr style=\"text-align: right;\">\n",
       "      <th></th>\n",
       "      <th>country</th>\n",
       "      <th>capital</th>\n",
       "      <th>population</th>\n",
       "      <th>happiness index</th>\n",
       "    </tr>\n",
       "  </thead>\n",
       "  <tbody>\n",
       "    <tr>\n",
       "      <th>0</th>\n",
       "      <td>Belgium</td>\n",
       "      <td>Brussels</td>\n",
       "      <td>1.7</td>\n",
       "      <td>-1</td>\n",
       "    </tr>\n",
       "    <tr>\n",
       "      <th>1</th>\n",
       "      <td>Norway</td>\n",
       "      <td>Oslo</td>\n",
       "      <td>6.4</td>\n",
       "      <td>-1</td>\n",
       "    </tr>\n",
       "    <tr>\n",
       "      <th>2</th>\n",
       "      <td>Australia</td>\n",
       "      <td>Canberra</td>\n",
       "      <td>3.9</td>\n",
       "      <td>-1</td>\n",
       "    </tr>\n",
       "    <tr>\n",
       "      <th>3</th>\n",
       "      <td>India</td>\n",
       "      <td>New Delhi</td>\n",
       "      <td>210.0</td>\n",
       "      <td>-1</td>\n",
       "    </tr>\n",
       "  </tbody>\n",
       "</table>\n",
       "</div>"
      ],
      "text/plain": [
       "     country    capital  population  happiness index\n",
       "0    Belgium   Brussels         1.7               -1\n",
       "1     Norway       Oslo         6.4               -1\n",
       "2  Australia   Canberra         3.9               -1\n",
       "3      India  New Delhi       210.0               -1"
      ]
     },
     "execution_count": 60,
     "metadata": {},
     "output_type": "execute_result"
    }
   ],
   "source": [
    "myDataFrame2['happiness index'] = -1\n",
    "myDataFrame2"
   ]
  },
  {
   "cell_type": "code",
   "execution_count": 72,
   "id": "81ee39db-b056-47b2-bda0-bbcb8b260377",
   "metadata": {},
   "outputs": [
    {
     "data": {
      "text/html": [
       "<div>\n",
       "<style scoped>\n",
       "    .dataframe tbody tr th:only-of-type {\n",
       "        vertical-align: middle;\n",
       "    }\n",
       "\n",
       "    .dataframe tbody tr th {\n",
       "        vertical-align: top;\n",
       "    }\n",
       "\n",
       "    .dataframe thead th {\n",
       "        text-align: right;\n",
       "    }\n",
       "</style>\n",
       "<table border=\"1\" class=\"dataframe\">\n",
       "  <thead>\n",
       "    <tr style=\"text-align: right;\">\n",
       "      <th></th>\n",
       "      <th>country</th>\n",
       "      <th>capital</th>\n",
       "      <th>population</th>\n",
       "      <th>happiness index</th>\n",
       "    </tr>\n",
       "  </thead>\n",
       "  <tbody>\n",
       "    <tr>\n",
       "      <th>0</th>\n",
       "      <td>Belgium</td>\n",
       "      <td>Brussels</td>\n",
       "      <td>1.7</td>\n",
       "      <td>8.0</td>\n",
       "    </tr>\n",
       "    <tr>\n",
       "      <th>1</th>\n",
       "      <td>Norway</td>\n",
       "      <td>Oslo</td>\n",
       "      <td>6.4</td>\n",
       "      <td>7.5</td>\n",
       "    </tr>\n",
       "    <tr>\n",
       "      <th>2</th>\n",
       "      <td>Australia</td>\n",
       "      <td>Canberra</td>\n",
       "      <td>3.9</td>\n",
       "      <td>6.0</td>\n",
       "    </tr>\n",
       "    <tr>\n",
       "      <th>3</th>\n",
       "      <td>India</td>\n",
       "      <td>New Delhi</td>\n",
       "      <td>210.0</td>\n",
       "      <td>5.5</td>\n",
       "    </tr>\n",
       "  </tbody>\n",
       "</table>\n",
       "</div>"
      ],
      "text/plain": [
       "     country    capital  population  happiness index\n",
       "0    Belgium   Brussels         1.7              8.0\n",
       "1     Norway       Oslo         6.4              7.5\n",
       "2  Australia   Canberra         3.9              6.0\n",
       "3      India  New Delhi       210.0              5.5"
      ]
     },
     "execution_count": 72,
     "metadata": {},
     "output_type": "execute_result"
    }
   ],
   "source": [
    "#When you are assigning lists or arrays to a column, the value’s length must match the length of the DataFrame.\n",
    "myDataFrame2['happiness index'] = [8.0, 7.5, 6.0, 5.5]\n",
    "myDataFrame2"
   ]
  },
  {
   "cell_type": "markdown",
   "id": "8f336c15-72c0-458f-8b24-afcb03009db7",
   "metadata": {},
   "source": [
    "## Deleting a column of a DataFrame"
   ]
  },
  {
   "cell_type": "markdown",
   "id": "ed0b5ceb-2889-43bc-9250-ccf77e31154d",
   "metadata": {},
   "source": [
    "The `del` method can be used to remove a column."
   ]
  },
  {
   "cell_type": "code",
   "execution_count": 74,
   "id": "f7ff6f11-054c-42d3-b3af-eab5567d8b52",
   "metadata": {},
   "outputs": [
    {
     "data": {
      "text/html": [
       "<div>\n",
       "<style scoped>\n",
       "    .dataframe tbody tr th:only-of-type {\n",
       "        vertical-align: middle;\n",
       "    }\n",
       "\n",
       "    .dataframe tbody tr th {\n",
       "        vertical-align: top;\n",
       "    }\n",
       "\n",
       "    .dataframe thead th {\n",
       "        text-align: right;\n",
       "    }\n",
       "</style>\n",
       "<table border=\"1\" class=\"dataframe\">\n",
       "  <thead>\n",
       "    <tr style=\"text-align: right;\">\n",
       "      <th></th>\n",
       "      <th>country</th>\n",
       "      <th>capital</th>\n",
       "      <th>population</th>\n",
       "      <th>happiness index</th>\n",
       "      <th>megacity</th>\n",
       "    </tr>\n",
       "  </thead>\n",
       "  <tbody>\n",
       "    <tr>\n",
       "      <th>0</th>\n",
       "      <td>Belgium</td>\n",
       "      <td>Brussels</td>\n",
       "      <td>1.7</td>\n",
       "      <td>8.0</td>\n",
       "      <td>False</td>\n",
       "    </tr>\n",
       "    <tr>\n",
       "      <th>1</th>\n",
       "      <td>Norway</td>\n",
       "      <td>Oslo</td>\n",
       "      <td>6.4</td>\n",
       "      <td>7.5</td>\n",
       "      <td>False</td>\n",
       "    </tr>\n",
       "    <tr>\n",
       "      <th>2</th>\n",
       "      <td>Australia</td>\n",
       "      <td>Canberra</td>\n",
       "      <td>3.9</td>\n",
       "      <td>6.0</td>\n",
       "      <td>False</td>\n",
       "    </tr>\n",
       "    <tr>\n",
       "      <th>3</th>\n",
       "      <td>India</td>\n",
       "      <td>New Delhi</td>\n",
       "      <td>210.0</td>\n",
       "      <td>5.5</td>\n",
       "      <td>True</td>\n",
       "    </tr>\n",
       "  </tbody>\n",
       "</table>\n",
       "</div>"
      ],
      "text/plain": [
       "     country    capital  population  happiness index  megacity\n",
       "0    Belgium   Brussels         1.7              8.0     False\n",
       "1     Norway       Oslo         6.4              7.5     False\n",
       "2  Australia   Canberra         3.9              6.0     False\n",
       "3      India  New Delhi       210.0              5.5      True"
      ]
     },
     "execution_count": 74,
     "metadata": {},
     "output_type": "execute_result"
    }
   ],
   "source": [
    "# I first create a new column called megacity\n",
    "myDataFrame2[\"megacity\"] = [False, False, False, True]\n",
    "myDataFrame2"
   ]
  },
  {
   "cell_type": "code",
   "execution_count": 75,
   "id": "8744d942-7548-4e24-8b8f-c881ff98b2b2",
   "metadata": {},
   "outputs": [
    {
     "data": {
      "text/html": [
       "<div>\n",
       "<style scoped>\n",
       "    .dataframe tbody tr th:only-of-type {\n",
       "        vertical-align: middle;\n",
       "    }\n",
       "\n",
       "    .dataframe tbody tr th {\n",
       "        vertical-align: top;\n",
       "    }\n",
       "\n",
       "    .dataframe thead th {\n",
       "        text-align: right;\n",
       "    }\n",
       "</style>\n",
       "<table border=\"1\" class=\"dataframe\">\n",
       "  <thead>\n",
       "    <tr style=\"text-align: right;\">\n",
       "      <th></th>\n",
       "      <th>country</th>\n",
       "      <th>capital</th>\n",
       "      <th>population</th>\n",
       "      <th>happiness index</th>\n",
       "    </tr>\n",
       "  </thead>\n",
       "  <tbody>\n",
       "    <tr>\n",
       "      <th>0</th>\n",
       "      <td>Belgium</td>\n",
       "      <td>Brussels</td>\n",
       "      <td>1.7</td>\n",
       "      <td>8.0</td>\n",
       "    </tr>\n",
       "    <tr>\n",
       "      <th>1</th>\n",
       "      <td>Norway</td>\n",
       "      <td>Oslo</td>\n",
       "      <td>6.4</td>\n",
       "      <td>7.5</td>\n",
       "    </tr>\n",
       "    <tr>\n",
       "      <th>2</th>\n",
       "      <td>Australia</td>\n",
       "      <td>Canberra</td>\n",
       "      <td>3.9</td>\n",
       "      <td>6.0</td>\n",
       "    </tr>\n",
       "    <tr>\n",
       "      <th>3</th>\n",
       "      <td>India</td>\n",
       "      <td>New Delhi</td>\n",
       "      <td>210.0</td>\n",
       "      <td>5.5</td>\n",
       "    </tr>\n",
       "  </tbody>\n",
       "</table>\n",
       "</div>"
      ],
      "text/plain": [
       "     country    capital  population  happiness index\n",
       "0    Belgium   Brussels         1.7              8.0\n",
       "1     Norway       Oslo         6.4              7.5\n",
       "2  Australia   Canberra         3.9              6.0\n",
       "3      India  New Delhi       210.0              5.5"
      ]
     },
     "execution_count": 75,
     "metadata": {},
     "output_type": "execute_result"
    }
   ],
   "source": [
    "del myDataFrame2[\"megacity\"]\n",
    "myDataFrame2"
   ]
  },
  {
   "cell_type": "markdown",
   "id": "a779acc9-b9c3-43cb-a4dd-e9382a988fe9",
   "metadata": {},
   "source": [
    "# Reindexing"
   ]
  },
  {
   "cell_type": "markdown",
   "id": "9813e012-43a5-4efe-be42-ef9034622a8b",
   "metadata": {},
   "source": [
    "A powerful feature of pandas is the `reindex` method. `reindex` rearranges the data according to the new index and introducing missing values if any index values were not already present.\n"
   ]
  },
  {
   "cell_type": "markdown",
   "id": "02d9433a-3b4e-4b4f-a848-5a1d3d709fb1",
   "metadata": {},
   "source": [
    "## Reindexing a Series"
   ]
  },
  {
   "cell_type": "code",
   "execution_count": 77,
   "id": "a5e417fc-6bd8-4bc5-a933-8d7ed5035a7d",
   "metadata": {},
   "outputs": [
    {
     "data": {
      "text/plain": [
       "a    6\n",
       "b    2\n",
       "c    9\n",
       "d    3\n",
       "e    7\n",
       "dtype: int64"
      ]
     },
     "execution_count": 77,
     "metadata": {},
     "output_type": "execute_result"
    }
   ],
   "source": [
    "obj = pd.Series([6,2,9,3,7], index=['a', 'b', 'c', 'd', 'e'])\n",
    "obj"
   ]
  },
  {
   "cell_type": "code",
   "execution_count": 78,
   "id": "90a0d1d2-b18a-45cb-bb0b-858e796f3ecf",
   "metadata": {},
   "outputs": [
    {
     "data": {
      "text/plain": [
       "d    3\n",
       "a    6\n",
       "b    2\n",
       "c    9\n",
       "e    7\n",
       "dtype: int64"
      ]
     },
     "execution_count": 78,
     "metadata": {},
     "output_type": "execute_result"
    }
   ],
   "source": [
    "obj2 = obj.reindex(['d', 'a', 'b', 'c', 'e'])\n",
    "obj2"
   ]
  },
  {
   "cell_type": "markdown",
   "id": "be2f37d2-3ffa-48f1-8a1f-f4d7e7c881ae",
   "metadata": {},
   "source": [
    "## Reindexing a DataFrame"
   ]
  },
  {
   "cell_type": "code",
   "execution_count": 85,
   "id": "e7dff99d-8fa5-47fa-bf50-57a83268e456",
   "metadata": {},
   "outputs": [
    {
     "data": {
      "text/html": [
       "<div>\n",
       "<style scoped>\n",
       "    .dataframe tbody tr th:only-of-type {\n",
       "        vertical-align: middle;\n",
       "    }\n",
       "\n",
       "    .dataframe tbody tr th {\n",
       "        vertical-align: top;\n",
       "    }\n",
       "\n",
       "    .dataframe thead th {\n",
       "        text-align: right;\n",
       "    }\n",
       "</style>\n",
       "<table border=\"1\" class=\"dataframe\">\n",
       "  <thead>\n",
       "    <tr style=\"text-align: right;\">\n",
       "      <th></th>\n",
       "      <th>country</th>\n",
       "      <th>capital</th>\n",
       "      <th>population</th>\n",
       "    </tr>\n",
       "  </thead>\n",
       "  <tbody>\n",
       "    <tr>\n",
       "      <th>a</th>\n",
       "      <td>Belgium</td>\n",
       "      <td>Brussels</td>\n",
       "      <td>1.7</td>\n",
       "    </tr>\n",
       "    <tr>\n",
       "      <th>b</th>\n",
       "      <td>Norway</td>\n",
       "      <td>Oslo</td>\n",
       "      <td>6.4</td>\n",
       "    </tr>\n",
       "    <tr>\n",
       "      <th>c</th>\n",
       "      <td>Australia</td>\n",
       "      <td>Canberra</td>\n",
       "      <td>3.9</td>\n",
       "    </tr>\n",
       "    <tr>\n",
       "      <th>d</th>\n",
       "      <td>India</td>\n",
       "      <td>New Delhi</td>\n",
       "      <td>210.0</td>\n",
       "    </tr>\n",
       "  </tbody>\n",
       "</table>\n",
       "</div>"
      ],
      "text/plain": [
       "     country    capital  population\n",
       "a    Belgium   Brussels         1.7\n",
       "b     Norway       Oslo         6.4\n",
       "c  Australia   Canberra         3.9\n",
       "d      India  New Delhi       210.0"
      ]
     },
     "execution_count": 85,
     "metadata": {},
     "output_type": "execute_result"
    }
   ],
   "source": [
    "data = {\"country\": [\"Belgium\", \"Norway\", \"Australia\", \"India\"],\n",
    "       \"capital\": [\"Brussels\",\"Oslo\",\"Canberra\",\"New Delhi\"],\n",
    "       \"population\":[1.7, 6.4, 3.9, 210]}\n",
    "\n",
    "df = pd.DataFrame(data, index=['a','b','c','d'])\n",
    "df"
   ]
  },
  {
   "cell_type": "code",
   "execution_count": 87,
   "id": "c9dac646-1871-42b1-94ac-0a877e984525",
   "metadata": {},
   "outputs": [
    {
     "data": {
      "text/html": [
       "<div>\n",
       "<style scoped>\n",
       "    .dataframe tbody tr th:only-of-type {\n",
       "        vertical-align: middle;\n",
       "    }\n",
       "\n",
       "    .dataframe tbody tr th {\n",
       "        vertical-align: top;\n",
       "    }\n",
       "\n",
       "    .dataframe thead th {\n",
       "        text-align: right;\n",
       "    }\n",
       "</style>\n",
       "<table border=\"1\" class=\"dataframe\">\n",
       "  <thead>\n",
       "    <tr style=\"text-align: right;\">\n",
       "      <th></th>\n",
       "      <th>country</th>\n",
       "      <th>capital</th>\n",
       "      <th>population</th>\n",
       "    </tr>\n",
       "  </thead>\n",
       "  <tbody>\n",
       "    <tr>\n",
       "      <th>a</th>\n",
       "      <td>Belgium</td>\n",
       "      <td>Brussels</td>\n",
       "      <td>1.7</td>\n",
       "    </tr>\n",
       "    <tr>\n",
       "      <th>b</th>\n",
       "      <td>Norway</td>\n",
       "      <td>Oslo</td>\n",
       "      <td>6.4</td>\n",
       "    </tr>\n",
       "    <tr>\n",
       "      <th>c</th>\n",
       "      <td>Australia</td>\n",
       "      <td>Canberra</td>\n",
       "      <td>3.9</td>\n",
       "    </tr>\n",
       "    <tr>\n",
       "      <th>d</th>\n",
       "      <td>India</td>\n",
       "      <td>New Delhi</td>\n",
       "      <td>210.0</td>\n",
       "    </tr>\n",
       "    <tr>\n",
       "      <th>e</th>\n",
       "      <td>NaN</td>\n",
       "      <td>NaN</td>\n",
       "      <td>NaN</td>\n",
       "    </tr>\n",
       "  </tbody>\n",
       "</table>\n",
       "</div>"
      ],
      "text/plain": [
       "     country    capital  population\n",
       "a    Belgium   Brussels         1.7\n",
       "b     Norway       Oslo         6.4\n",
       "c  Australia   Canberra         3.9\n",
       "d      India  New Delhi       210.0\n",
       "e        NaN        NaN         NaN"
      ]
     },
     "execution_count": 87,
     "metadata": {},
     "output_type": "execute_result"
    }
   ],
   "source": [
    "df2 = df.reindex(['a','b','c','d','e'])\n",
    "df2"
   ]
  },
  {
   "cell_type": "markdown",
   "id": "71f32763-9174-4eb1-bc5e-e92b927e72e2",
   "metadata": {},
   "source": [
    "Columns can be reindexed with the `columns` keyword"
   ]
  },
  {
   "cell_type": "code",
   "execution_count": 90,
   "id": "3f80db88-53ee-4bb8-9952-f08fe90e2cee",
   "metadata": {},
   "outputs": [
    {
     "data": {
      "text/html": [
       "<div>\n",
       "<style scoped>\n",
       "    .dataframe tbody tr th:only-of-type {\n",
       "        vertical-align: middle;\n",
       "    }\n",
       "\n",
       "    .dataframe tbody tr th {\n",
       "        vertical-align: top;\n",
       "    }\n",
       "\n",
       "    .dataframe thead th {\n",
       "        text-align: right;\n",
       "    }\n",
       "</style>\n",
       "<table border=\"1\" class=\"dataframe\">\n",
       "  <thead>\n",
       "    <tr style=\"text-align: right;\">\n",
       "      <th></th>\n",
       "      <th>capital</th>\n",
       "      <th>country</th>\n",
       "      <th>population</th>\n",
       "    </tr>\n",
       "  </thead>\n",
       "  <tbody>\n",
       "    <tr>\n",
       "      <th>a</th>\n",
       "      <td>Brussels</td>\n",
       "      <td>Belgium</td>\n",
       "      <td>1.7</td>\n",
       "    </tr>\n",
       "    <tr>\n",
       "      <th>b</th>\n",
       "      <td>Oslo</td>\n",
       "      <td>Norway</td>\n",
       "      <td>6.4</td>\n",
       "    </tr>\n",
       "    <tr>\n",
       "      <th>c</th>\n",
       "      <td>Canberra</td>\n",
       "      <td>Australia</td>\n",
       "      <td>3.9</td>\n",
       "    </tr>\n",
       "    <tr>\n",
       "      <th>d</th>\n",
       "      <td>New Delhi</td>\n",
       "      <td>India</td>\n",
       "      <td>210.0</td>\n",
       "    </tr>\n",
       "  </tbody>\n",
       "</table>\n",
       "</div>"
      ],
      "text/plain": [
       "     capital    country  population\n",
       "a   Brussels    Belgium         1.7\n",
       "b       Oslo     Norway         6.4\n",
       "c   Canberra  Australia         3.9\n",
       "d  New Delhi      India       210.0"
      ]
     },
     "execution_count": 90,
     "metadata": {},
     "output_type": "execute_result"
    }
   ],
   "source": [
    "columns = ['capital', 'country', 'population']\n",
    "df.reindex(columns = columns)"
   ]
  },
  {
   "cell_type": "markdown",
   "id": "d56b1f80-c960-4373-9282-60e07be1ebdc",
   "metadata": {},
   "source": [
    "# Dropping Entries"
   ]
  },
  {
   "cell_type": "markdown",
   "id": "e704d67a-fb3c-4b97-8190-c9b7faf1ef93",
   "metadata": {},
   "source": [
    "## Dropping entries from a Series"
   ]
  },
  {
   "cell_type": "markdown",
   "id": "4cb66038-33c6-4f50-b053-37b317b90a1f",
   "metadata": {},
   "source": [
    "The `drop` method will return a **new object** with the indicated values deleted from an axis."
   ]
  },
  {
   "cell_type": "code",
   "execution_count": 93,
   "id": "6ff3a7a4-8dc6-4493-bf8b-767446eb0ce1",
   "metadata": {},
   "outputs": [
    {
     "data": {
      "text/plain": [
       "p    6\n",
       "i    3\n",
       "y   -2\n",
       "a    7\n",
       "d   -2\n",
       "u   -2\n",
       "j    3\n",
       "q    0\n",
       "g    1\n",
       "dtype: int64"
      ]
     },
     "execution_count": 93,
     "metadata": {},
     "output_type": "execute_result"
    }
   ],
   "source": [
    "pObject = pd.Series([6,3,-2,7,-2,-2,3,0,1], index=['p','i','y','a','d','u','j','q','g'])\n",
    "pObject"
   ]
  },
  {
   "cell_type": "code",
   "execution_count": 94,
   "id": "bf6f5efb-f29e-4c04-953d-e3fec9fef7b9",
   "metadata": {},
   "outputs": [
    {
     "data": {
      "text/plain": [
       "i    3\n",
       "y   -2\n",
       "a    7\n",
       "d   -2\n",
       "u   -2\n",
       "j    3\n",
       "q    0\n",
       "g    1\n",
       "dtype: int64"
      ]
     },
     "execution_count": 94,
     "metadata": {},
     "output_type": "execute_result"
    }
   ],
   "source": [
    "pObject.drop('p')"
   ]
  },
  {
   "cell_type": "code",
   "execution_count": 95,
   "id": "efe8bfec-6aa3-481f-adba-68aedddcd750",
   "metadata": {},
   "outputs": [
    {
     "data": {
      "text/plain": [
       "p    6\n",
       "i    3\n",
       "d   -2\n",
       "u   -2\n",
       "j    3\n",
       "q    0\n",
       "g    1\n",
       "dtype: int64"
      ]
     },
     "execution_count": 95,
     "metadata": {},
     "output_type": "execute_result"
    }
   ],
   "source": [
    "pObject.drop(['y', 'a'])"
   ]
  },
  {
   "cell_type": "markdown",
   "id": "387f7f57-6464-4f5f-ac1d-b73ec52c41a2",
   "metadata": {},
   "source": [
    "## Dropping entries from a DataFrame"
   ]
  },
  {
   "cell_type": "markdown",
   "id": "26771862-0dc5-44d4-906a-eeec236a10f4",
   "metadata": {},
   "source": [
    "With DataFrames, index values can be deleted from either axis."
   ]
  },
  {
   "cell_type": "code",
   "execution_count": 101,
   "id": "d2b0e7b2-d107-4913-a98c-29752112e04f",
   "metadata": {},
   "outputs": [
    {
     "data": {
      "text/html": [
       "<div>\n",
       "<style scoped>\n",
       "    .dataframe tbody tr th:only-of-type {\n",
       "        vertical-align: middle;\n",
       "    }\n",
       "\n",
       "    .dataframe tbody tr th {\n",
       "        vertical-align: top;\n",
       "    }\n",
       "\n",
       "    .dataframe thead th {\n",
       "        text-align: right;\n",
       "    }\n",
       "</style>\n",
       "<table border=\"1\" class=\"dataframe\">\n",
       "  <thead>\n",
       "    <tr style=\"text-align: right;\">\n",
       "      <th></th>\n",
       "      <th>capital</th>\n",
       "      <th>population</th>\n",
       "    </tr>\n",
       "  </thead>\n",
       "  <tbody>\n",
       "    <tr>\n",
       "      <th>Belgium</th>\n",
       "      <td>Brussels</td>\n",
       "      <td>1.7</td>\n",
       "    </tr>\n",
       "    <tr>\n",
       "      <th>Norway</th>\n",
       "      <td>Oslo</td>\n",
       "      <td>6.4</td>\n",
       "    </tr>\n",
       "    <tr>\n",
       "      <th>Australia</th>\n",
       "      <td>Canberra</td>\n",
       "      <td>3.9</td>\n",
       "    </tr>\n",
       "    <tr>\n",
       "      <th>India</th>\n",
       "      <td>New Delhi</td>\n",
       "      <td>210.0</td>\n",
       "    </tr>\n",
       "  </tbody>\n",
       "</table>\n",
       "</div>"
      ],
      "text/plain": [
       "             capital  population\n",
       "Belgium     Brussels         1.7\n",
       "Norway          Oslo         6.4\n",
       "Australia   Canberra         3.9\n",
       "India      New Delhi       210.0"
      ]
     },
     "execution_count": 101,
     "metadata": {},
     "output_type": "execute_result"
    }
   ],
   "source": [
    "data = {'capital': ['Brussels','Oslo','Canberra','New Delhi'],\n",
    "       'population':[1.7, 6.4, 3.9, 210]}\n",
    "\n",
    "df = pd.DataFrame(data, index=['Belgium', 'Norway', 'Australia', 'India'])\n",
    "df"
   ]
  },
  {
   "cell_type": "code",
   "execution_count": 103,
   "id": "287826d1-0fd1-4033-a8e1-3de148e69128",
   "metadata": {},
   "outputs": [
    {
     "data": {
      "text/html": [
       "<div>\n",
       "<style scoped>\n",
       "    .dataframe tbody tr th:only-of-type {\n",
       "        vertical-align: middle;\n",
       "    }\n",
       "\n",
       "    .dataframe tbody tr th {\n",
       "        vertical-align: top;\n",
       "    }\n",
       "\n",
       "    .dataframe thead th {\n",
       "        text-align: right;\n",
       "    }\n",
       "</style>\n",
       "<table border=\"1\" class=\"dataframe\">\n",
       "  <thead>\n",
       "    <tr style=\"text-align: right;\">\n",
       "      <th></th>\n",
       "      <th>capital</th>\n",
       "      <th>population</th>\n",
       "    </tr>\n",
       "  </thead>\n",
       "  <tbody>\n",
       "    <tr>\n",
       "      <th>Belgium</th>\n",
       "      <td>Brussels</td>\n",
       "      <td>1.7</td>\n",
       "    </tr>\n",
       "    <tr>\n",
       "      <th>India</th>\n",
       "      <td>New Delhi</td>\n",
       "      <td>210.0</td>\n",
       "    </tr>\n",
       "  </tbody>\n",
       "</table>\n",
       "</div>"
      ],
      "text/plain": [
       "           capital  population\n",
       "Belgium   Brussels         1.7\n",
       "India    New Delhi       210.0"
      ]
     },
     "execution_count": 103,
     "metadata": {},
     "output_type": "execute_result"
    }
   ],
   "source": [
    "#Calling `drop` with a sequence of labels will drop values from the row label (axis=0)\n",
    "df.drop(['Australia', 'Norway'])"
   ]
  },
  {
   "cell_type": "code",
   "execution_count": 104,
   "id": "e3ee985b-ad9b-4365-b63b-29e560e8ea54",
   "metadata": {},
   "outputs": [
    {
     "data": {
      "text/html": [
       "<div>\n",
       "<style scoped>\n",
       "    .dataframe tbody tr th:only-of-type {\n",
       "        vertical-align: middle;\n",
       "    }\n",
       "\n",
       "    .dataframe tbody tr th {\n",
       "        vertical-align: top;\n",
       "    }\n",
       "\n",
       "    .dataframe thead th {\n",
       "        text-align: right;\n",
       "    }\n",
       "</style>\n",
       "<table border=\"1\" class=\"dataframe\">\n",
       "  <thead>\n",
       "    <tr style=\"text-align: right;\">\n",
       "      <th></th>\n",
       "      <th>population</th>\n",
       "    </tr>\n",
       "  </thead>\n",
       "  <tbody>\n",
       "    <tr>\n",
       "      <th>Belgium</th>\n",
       "      <td>1.7</td>\n",
       "    </tr>\n",
       "    <tr>\n",
       "      <th>Norway</th>\n",
       "      <td>6.4</td>\n",
       "    </tr>\n",
       "    <tr>\n",
       "      <th>Australia</th>\n",
       "      <td>3.9</td>\n",
       "    </tr>\n",
       "    <tr>\n",
       "      <th>India</th>\n",
       "      <td>210.0</td>\n",
       "    </tr>\n",
       "  </tbody>\n",
       "</table>\n",
       "</div>"
      ],
      "text/plain": [
       "           population\n",
       "Belgium           1.7\n",
       "Norway            6.4\n",
       "Australia         3.9\n",
       "India           210.0"
      ]
     },
     "execution_count": 104,
     "metadata": {},
     "output_type": "execute_result"
    }
   ],
   "source": [
    "#Values from the columns can be dropped by passing axis=1 or axis='columns' to the drop function\n",
    "df.drop('capital', axis=1)"
   ]
  },
  {
   "cell_type": "markdown",
   "id": "adee3042-e5ae-4159-af38-bd3c0539d2a2",
   "metadata": {},
   "source": [
    "It is possible to manipulate an object in-place without returning a new object using the `inplace=True` argument."
   ]
  },
  {
   "cell_type": "code",
   "execution_count": 105,
   "id": "82a01e04-b95c-4373-a2b3-e07619b1a1dd",
   "metadata": {},
   "outputs": [],
   "source": [
    "df.drop('capital', axis=1, inplace=True)"
   ]
  },
  {
   "cell_type": "code",
   "execution_count": 106,
   "id": "3a46790c-eb4f-4f5e-8e91-946f8d2167d6",
   "metadata": {},
   "outputs": [
    {
     "data": {
      "text/html": [
       "<div>\n",
       "<style scoped>\n",
       "    .dataframe tbody tr th:only-of-type {\n",
       "        vertical-align: middle;\n",
       "    }\n",
       "\n",
       "    .dataframe tbody tr th {\n",
       "        vertical-align: top;\n",
       "    }\n",
       "\n",
       "    .dataframe thead th {\n",
       "        text-align: right;\n",
       "    }\n",
       "</style>\n",
       "<table border=\"1\" class=\"dataframe\">\n",
       "  <thead>\n",
       "    <tr style=\"text-align: right;\">\n",
       "      <th></th>\n",
       "      <th>population</th>\n",
       "    </tr>\n",
       "  </thead>\n",
       "  <tbody>\n",
       "    <tr>\n",
       "      <th>Belgium</th>\n",
       "      <td>1.7</td>\n",
       "    </tr>\n",
       "    <tr>\n",
       "      <th>Norway</th>\n",
       "      <td>6.4</td>\n",
       "    </tr>\n",
       "    <tr>\n",
       "      <th>Australia</th>\n",
       "      <td>3.9</td>\n",
       "    </tr>\n",
       "    <tr>\n",
       "      <th>India</th>\n",
       "      <td>210.0</td>\n",
       "    </tr>\n",
       "  </tbody>\n",
       "</table>\n",
       "</div>"
      ],
      "text/plain": [
       "           population\n",
       "Belgium           1.7\n",
       "Norway            6.4\n",
       "Australia         3.9\n",
       "India           210.0"
      ]
     },
     "execution_count": 106,
     "metadata": {},
     "output_type": "execute_result"
    }
   ],
   "source": [
    "df"
   ]
  },
  {
   "cell_type": "markdown",
   "id": "e7056182-8759-4936-9915-102901c302db",
   "metadata": {},
   "source": [
    "# Selection with `loc` and `iloc`"
   ]
  },
  {
   "cell_type": "markdown",
   "id": "d383e8c4-0b83-47a7-8b69-b893c0b88c9f",
   "metadata": {},
   "source": [
    "`loc` and `iloc` are special indexing operation that allow you to select a subset of rows and columns from a DataFrame using either axis labels (`loc`) or integers (`iloc`)."
   ]
  },
  {
   "cell_type": "code",
   "execution_count": 111,
   "id": "3ad364f6-4806-4454-b013-26cedfa4302b",
   "metadata": {},
   "outputs": [
    {
     "data": {
      "text/html": [
       "<div>\n",
       "<style scoped>\n",
       "    .dataframe tbody tr th:only-of-type {\n",
       "        vertical-align: middle;\n",
       "    }\n",
       "\n",
       "    .dataframe tbody tr th {\n",
       "        vertical-align: top;\n",
       "    }\n",
       "\n",
       "    .dataframe thead th {\n",
       "        text-align: right;\n",
       "    }\n",
       "</style>\n",
       "<table border=\"1\" class=\"dataframe\">\n",
       "  <thead>\n",
       "    <tr style=\"text-align: right;\">\n",
       "      <th></th>\n",
       "      <th>capital</th>\n",
       "      <th>population</th>\n",
       "      <th>megacity</th>\n",
       "    </tr>\n",
       "  </thead>\n",
       "  <tbody>\n",
       "    <tr>\n",
       "      <th>Belgium</th>\n",
       "      <td>Brussels</td>\n",
       "      <td>1.7</td>\n",
       "      <td>False</td>\n",
       "    </tr>\n",
       "    <tr>\n",
       "      <th>Norway</th>\n",
       "      <td>Oslo</td>\n",
       "      <td>6.4</td>\n",
       "      <td>False</td>\n",
       "    </tr>\n",
       "    <tr>\n",
       "      <th>Australia</th>\n",
       "      <td>Canberra</td>\n",
       "      <td>3.9</td>\n",
       "      <td>False</td>\n",
       "    </tr>\n",
       "    <tr>\n",
       "      <th>India</th>\n",
       "      <td>New Delhi</td>\n",
       "      <td>210.0</td>\n",
       "      <td>True</td>\n",
       "    </tr>\n",
       "    <tr>\n",
       "      <th>indonesia</th>\n",
       "      <td>Jakarta</td>\n",
       "      <td>105.0</td>\n",
       "      <td>True</td>\n",
       "    </tr>\n",
       "    <tr>\n",
       "      <th>New Zealand</th>\n",
       "      <td>Wellington</td>\n",
       "      <td>2.1</td>\n",
       "      <td>False</td>\n",
       "    </tr>\n",
       "  </tbody>\n",
       "</table>\n",
       "</div>"
      ],
      "text/plain": [
       "                capital  population  megacity\n",
       "Belgium        Brussels         1.7     False\n",
       "Norway             Oslo         6.4     False\n",
       "Australia      Canberra         3.9     False\n",
       "India         New Delhi       210.0      True\n",
       "indonesia       Jakarta       105.0      True\n",
       "New Zealand  Wellington         2.1     False"
      ]
     },
     "execution_count": 111,
     "metadata": {},
     "output_type": "execute_result"
    }
   ],
   "source": [
    "data = {'capital': ['Brussels','Oslo','Canberra','New Delhi', 'Jakarta', 'Wellington'],\n",
    "       'population':[1.7, 6.4, 3.9, 210, 105, 2.1],\n",
    "       'megacity': [False, False, False, True, True, False]}\n",
    "df = pd.DataFrame(data, index=['Belgium', 'Norway', 'Australia', 'India', 'indonesia', 'New Zealand'])\n",
    "df"
   ]
  },
  {
   "cell_type": "markdown",
   "id": "3b53e20c-de10-40a3-9609-9b7a22ffec60",
   "metadata": {
    "tags": []
   },
   "source": [
    "## loc"
   ]
  },
  {
   "cell_type": "code",
   "execution_count": 113,
   "id": "451f7301-d052-482e-9203-0b6920f334f4",
   "metadata": {},
   "outputs": [
    {
     "data": {
      "text/plain": [
       "capital       Canberra\n",
       "population         3.9\n",
       "Name: Australia, dtype: object"
      ]
     },
     "execution_count": 113,
     "metadata": {},
     "output_type": "execute_result"
    }
   ],
   "source": [
    "df.loc['Australia', ['capital', 'population']] #retrive the the columns `capital` and `population` for index Australia"
   ]
  },
  {
   "cell_type": "markdown",
   "id": "cadcb535-f7e9-4948-b029-a5722cd50511",
   "metadata": {
    "tags": []
   },
   "source": [
    "## iloc"
   ]
  },
  {
   "cell_type": "code",
   "execution_count": 115,
   "id": "13d4672a-143f-4621-921a-07cbae252a4c",
   "metadata": {},
   "outputs": [
    {
     "data": {
      "text/plain": [
       "capital       Canberra\n",
       "population         3.9\n",
       "Name: Australia, dtype: object"
      ]
     },
     "execution_count": 115,
     "metadata": {},
     "output_type": "execute_result"
    }
   ],
   "source": [
    "df.iloc[2, [0,1]]  #same operation as above but with `iloc`"
   ]
  },
  {
   "cell_type": "code",
   "execution_count": 116,
   "id": "9ee34ff8-8ce8-435a-b9aa-44dfbe65ed18",
   "metadata": {},
   "outputs": [
    {
     "data": {
      "text/html": [
       "<div>\n",
       "<style scoped>\n",
       "    .dataframe tbody tr th:only-of-type {\n",
       "        vertical-align: middle;\n",
       "    }\n",
       "\n",
       "    .dataframe tbody tr th {\n",
       "        vertical-align: top;\n",
       "    }\n",
       "\n",
       "    .dataframe thead th {\n",
       "        text-align: right;\n",
       "    }\n",
       "</style>\n",
       "<table border=\"1\" class=\"dataframe\">\n",
       "  <thead>\n",
       "    <tr style=\"text-align: right;\">\n",
       "      <th></th>\n",
       "      <th>capital</th>\n",
       "      <th>population</th>\n",
       "    </tr>\n",
       "  </thead>\n",
       "  <tbody>\n",
       "    <tr>\n",
       "      <th>Norway</th>\n",
       "      <td>Oslo</td>\n",
       "      <td>6.4</td>\n",
       "    </tr>\n",
       "    <tr>\n",
       "      <th>Australia</th>\n",
       "      <td>Canberra</td>\n",
       "      <td>3.9</td>\n",
       "    </tr>\n",
       "    <tr>\n",
       "      <th>India</th>\n",
       "      <td>New Delhi</td>\n",
       "      <td>210.0</td>\n",
       "    </tr>\n",
       "  </tbody>\n",
       "</table>\n",
       "</div>"
      ],
      "text/plain": [
       "             capital  population\n",
       "Norway          Oslo         6.4\n",
       "Australia   Canberra         3.9\n",
       "India      New Delhi       210.0"
      ]
     },
     "execution_count": 116,
     "metadata": {},
     "output_type": "execute_result"
    }
   ],
   "source": [
    "df.iloc[[1,2,3], [0,1]]  #same operation as above but with `iloc`"
   ]
  },
  {
   "cell_type": "markdown",
   "id": "d67f389c-8f9c-4f66-8036-a4ad42073774",
   "metadata": {},
   "source": [
    "## Slicing with `loc` and `iloc`"
   ]
  },
  {
   "cell_type": "code",
   "execution_count": 120,
   "id": "dc6c1760-8e56-4cc0-b982-96dcfb1d2f81",
   "metadata": {},
   "outputs": [
    {
     "data": {
      "text/plain": [
       "Belgium       Brussels\n",
       "Norway            Oslo\n",
       "Australia     Canberra\n",
       "India        New Delhi\n",
       "Name: capital, dtype: object"
      ]
     },
     "execution_count": 120,
     "metadata": {},
     "output_type": "execute_result"
    }
   ],
   "source": [
    "df.loc[:'India', 'capital'] #get the capital of all countries up to `India`"
   ]
  },
  {
   "cell_type": "code",
   "execution_count": 123,
   "id": "ce735482-cfc2-4fdb-a2f6-aa034c276021",
   "metadata": {},
   "outputs": [
    {
     "data": {
      "text/html": [
       "<div>\n",
       "<style scoped>\n",
       "    .dataframe tbody tr th:only-of-type {\n",
       "        vertical-align: middle;\n",
       "    }\n",
       "\n",
       "    .dataframe tbody tr th {\n",
       "        vertical-align: top;\n",
       "    }\n",
       "\n",
       "    .dataframe thead th {\n",
       "        text-align: right;\n",
       "    }\n",
       "</style>\n",
       "<table border=\"1\" class=\"dataframe\">\n",
       "  <thead>\n",
       "    <tr style=\"text-align: right;\">\n",
       "      <th></th>\n",
       "      <th>capital</th>\n",
       "      <th>population</th>\n",
       "    </tr>\n",
       "  </thead>\n",
       "  <tbody>\n",
       "    <tr>\n",
       "      <th>India</th>\n",
       "      <td>New Delhi</td>\n",
       "      <td>210.0</td>\n",
       "    </tr>\n",
       "    <tr>\n",
       "      <th>indonesia</th>\n",
       "      <td>Jakarta</td>\n",
       "      <td>105.0</td>\n",
       "    </tr>\n",
       "  </tbody>\n",
       "</table>\n",
       "</div>"
      ],
      "text/plain": [
       "             capital  population\n",
       "India      New Delhi       210.0\n",
       "indonesia    Jakarta       105.0"
      ]
     },
     "execution_count": 123,
     "metadata": {},
     "output_type": "execute_result"
    }
   ],
   "source": [
    "df.iloc[:, :2][df.megacity == True] #get the capital and population column (:2) of all countries (:), which are classified as megacities"
   ]
  },
  {
   "cell_type": "markdown",
   "id": "f5765d20-44e5-41fe-a44f-07f5e9dde609",
   "metadata": {},
   "source": [
    "# Sorting and Ranking"
   ]
  },
  {
   "cell_type": "markdown",
   "id": "69518e14-8bc7-4919-b9e4-0c948c7e853d",
   "metadata": {},
   "source": [
    "## Sorting"
   ]
  },
  {
   "cell_type": "markdown",
   "id": "cf010715-2ac6-4cb3-a31d-f47096cb2e68",
   "metadata": {},
   "source": [
    "Sorting a dataset by a criterion is a common operation in real-world applications. To sort alphabetically by row or column index, use the `sort_index` method. This returns a new, sorted object. "
   ]
  },
  {
   "cell_type": "code",
   "execution_count": 126,
   "id": "ed972ae5-9641-4c91-9ec0-837330918ac3",
   "metadata": {},
   "outputs": [
    {
     "data": {
      "text/plain": [
       "a    7\n",
       "d   -2\n",
       "g    1\n",
       "i    3\n",
       "j    3\n",
       "p    6\n",
       "q    0\n",
       "u   -2\n",
       "y   -2\n",
       "dtype: int64"
      ]
     },
     "execution_count": 126,
     "metadata": {},
     "output_type": "execute_result"
    }
   ],
   "source": [
    "#sorting a Series alphabetically\n",
    "pObject = pd.Series([6,3,-2,7,-2,-2,3,0,1], index=['p','i','y','a','d','u','j','q','g'])\n",
    "pObject.sort_index()"
   ]
  },
  {
   "cell_type": "markdown",
   "id": "78038d20-cbd4-4430-8ebc-dd879b9ecd21",
   "metadata": {},
   "source": [
    "  \n",
    "  \n",
    "  \n",
    "DataFrames can be sorted by index on either axis (axis 0, axis 1)"
   ]
  },
  {
   "cell_type": "code",
   "execution_count": 127,
   "id": "26d24a15-fdbb-4c29-a9f1-dbb7ed1d336c",
   "metadata": {},
   "outputs": [
    {
     "data": {
      "text/html": [
       "<div>\n",
       "<style scoped>\n",
       "    .dataframe tbody tr th:only-of-type {\n",
       "        vertical-align: middle;\n",
       "    }\n",
       "\n",
       "    .dataframe tbody tr th {\n",
       "        vertical-align: top;\n",
       "    }\n",
       "\n",
       "    .dataframe thead th {\n",
       "        text-align: right;\n",
       "    }\n",
       "</style>\n",
       "<table border=\"1\" class=\"dataframe\">\n",
       "  <thead>\n",
       "    <tr style=\"text-align: right;\">\n",
       "      <th></th>\n",
       "      <th>capital</th>\n",
       "      <th>population</th>\n",
       "      <th>megacity</th>\n",
       "    </tr>\n",
       "  </thead>\n",
       "  <tbody>\n",
       "    <tr>\n",
       "      <th>Australia</th>\n",
       "      <td>Canberra</td>\n",
       "      <td>3.9</td>\n",
       "      <td>False</td>\n",
       "    </tr>\n",
       "    <tr>\n",
       "      <th>Belgium</th>\n",
       "      <td>Brussels</td>\n",
       "      <td>1.7</td>\n",
       "      <td>False</td>\n",
       "    </tr>\n",
       "    <tr>\n",
       "      <th>India</th>\n",
       "      <td>New Delhi</td>\n",
       "      <td>210.0</td>\n",
       "      <td>True</td>\n",
       "    </tr>\n",
       "    <tr>\n",
       "      <th>New Zealand</th>\n",
       "      <td>Wellington</td>\n",
       "      <td>2.1</td>\n",
       "      <td>False</td>\n",
       "    </tr>\n",
       "    <tr>\n",
       "      <th>Norway</th>\n",
       "      <td>Oslo</td>\n",
       "      <td>6.4</td>\n",
       "      <td>False</td>\n",
       "    </tr>\n",
       "    <tr>\n",
       "      <th>indonesia</th>\n",
       "      <td>Jakarta</td>\n",
       "      <td>105.0</td>\n",
       "      <td>True</td>\n",
       "    </tr>\n",
       "  </tbody>\n",
       "</table>\n",
       "</div>"
      ],
      "text/plain": [
       "                capital  population  megacity\n",
       "Australia      Canberra         3.9     False\n",
       "Belgium        Brussels         1.7     False\n",
       "India         New Delhi       210.0      True\n",
       "New Zealand  Wellington         2.1     False\n",
       "Norway             Oslo         6.4     False\n",
       "indonesia       Jakarta       105.0      True"
      ]
     },
     "execution_count": 127,
     "metadata": {},
     "output_type": "execute_result"
    }
   ],
   "source": [
    "data = {'capital': ['Brussels','Oslo','Canberra','New Delhi', 'Jakarta', 'Wellington'],\n",
    "       'population':[1.7, 6.4, 3.9, 210, 105, 2.1],\n",
    "       'megacity': [False, False, False, True, True, False]}\n",
    "df = pd.DataFrame(data, index=['Belgium', 'Norway', 'Australia', 'India', 'indonesia', 'New Zealand'])\n",
    "df.sort_index() #sort by row index"
   ]
  },
  {
   "cell_type": "code",
   "execution_count": 130,
   "id": "df12d37b-af47-4edc-80de-c771ae2a3da0",
   "metadata": {},
   "outputs": [
    {
     "data": {
      "text/html": [
       "<div>\n",
       "<style scoped>\n",
       "    .dataframe tbody tr th:only-of-type {\n",
       "        vertical-align: middle;\n",
       "    }\n",
       "\n",
       "    .dataframe tbody tr th {\n",
       "        vertical-align: top;\n",
       "    }\n",
       "\n",
       "    .dataframe thead th {\n",
       "        text-align: right;\n",
       "    }\n",
       "</style>\n",
       "<table border=\"1\" class=\"dataframe\">\n",
       "  <thead>\n",
       "    <tr style=\"text-align: right;\">\n",
       "      <th></th>\n",
       "      <th>capital</th>\n",
       "      <th>megacity</th>\n",
       "      <th>population</th>\n",
       "    </tr>\n",
       "  </thead>\n",
       "  <tbody>\n",
       "    <tr>\n",
       "      <th>Belgium</th>\n",
       "      <td>Brussels</td>\n",
       "      <td>False</td>\n",
       "      <td>1.7</td>\n",
       "    </tr>\n",
       "    <tr>\n",
       "      <th>Norway</th>\n",
       "      <td>Oslo</td>\n",
       "      <td>False</td>\n",
       "      <td>6.4</td>\n",
       "    </tr>\n",
       "    <tr>\n",
       "      <th>Australia</th>\n",
       "      <td>Canberra</td>\n",
       "      <td>False</td>\n",
       "      <td>3.9</td>\n",
       "    </tr>\n",
       "    <tr>\n",
       "      <th>India</th>\n",
       "      <td>New Delhi</td>\n",
       "      <td>True</td>\n",
       "      <td>210.0</td>\n",
       "    </tr>\n",
       "    <tr>\n",
       "      <th>indonesia</th>\n",
       "      <td>Jakarta</td>\n",
       "      <td>True</td>\n",
       "      <td>105.0</td>\n",
       "    </tr>\n",
       "    <tr>\n",
       "      <th>New Zealand</th>\n",
       "      <td>Wellington</td>\n",
       "      <td>False</td>\n",
       "      <td>2.1</td>\n",
       "    </tr>\n",
       "  </tbody>\n",
       "</table>\n",
       "</div>"
      ],
      "text/plain": [
       "                capital  megacity  population\n",
       "Belgium        Brussels     False         1.7\n",
       "Norway             Oslo     False         6.4\n",
       "Australia      Canberra     False         3.9\n",
       "India         New Delhi      True       210.0\n",
       "indonesia       Jakarta      True       105.0\n",
       "New Zealand  Wellington     False         2.1"
      ]
     },
     "execution_count": 130,
     "metadata": {},
     "output_type": "execute_result"
    }
   ],
   "source": [
    "df.sort_index(axis=1) #sort by column index"
   ]
  },
  {
   "cell_type": "code",
   "execution_count": 131,
   "id": "5fddb942-a1f0-4d40-90ef-a352df2807eb",
   "metadata": {},
   "outputs": [
    {
     "data": {
      "text/html": [
       "<div>\n",
       "<style scoped>\n",
       "    .dataframe tbody tr th:only-of-type {\n",
       "        vertical-align: middle;\n",
       "    }\n",
       "\n",
       "    .dataframe tbody tr th {\n",
       "        vertical-align: top;\n",
       "    }\n",
       "\n",
       "    .dataframe thead th {\n",
       "        text-align: right;\n",
       "    }\n",
       "</style>\n",
       "<table border=\"1\" class=\"dataframe\">\n",
       "  <thead>\n",
       "    <tr style=\"text-align: right;\">\n",
       "      <th></th>\n",
       "      <th>population</th>\n",
       "      <th>megacity</th>\n",
       "      <th>capital</th>\n",
       "    </tr>\n",
       "  </thead>\n",
       "  <tbody>\n",
       "    <tr>\n",
       "      <th>Belgium</th>\n",
       "      <td>1.7</td>\n",
       "      <td>False</td>\n",
       "      <td>Brussels</td>\n",
       "    </tr>\n",
       "    <tr>\n",
       "      <th>Norway</th>\n",
       "      <td>6.4</td>\n",
       "      <td>False</td>\n",
       "      <td>Oslo</td>\n",
       "    </tr>\n",
       "    <tr>\n",
       "      <th>Australia</th>\n",
       "      <td>3.9</td>\n",
       "      <td>False</td>\n",
       "      <td>Canberra</td>\n",
       "    </tr>\n",
       "    <tr>\n",
       "      <th>India</th>\n",
       "      <td>210.0</td>\n",
       "      <td>True</td>\n",
       "      <td>New Delhi</td>\n",
       "    </tr>\n",
       "    <tr>\n",
       "      <th>indonesia</th>\n",
       "      <td>105.0</td>\n",
       "      <td>True</td>\n",
       "      <td>Jakarta</td>\n",
       "    </tr>\n",
       "    <tr>\n",
       "      <th>New Zealand</th>\n",
       "      <td>2.1</td>\n",
       "      <td>False</td>\n",
       "      <td>Wellington</td>\n",
       "    </tr>\n",
       "  </tbody>\n",
       "</table>\n",
       "</div>"
      ],
      "text/plain": [
       "             population  megacity     capital\n",
       "Belgium             1.7     False    Brussels\n",
       "Norway              6.4     False        Oslo\n",
       "Australia           3.9     False    Canberra\n",
       "India             210.0      True   New Delhi\n",
       "indonesia         105.0      True     Jakarta\n",
       "New Zealand         2.1     False  Wellington"
      ]
     },
     "execution_count": 131,
     "metadata": {},
     "output_type": "execute_result"
    }
   ],
   "source": [
    "df.sort_index(axis=1, ascending=False) #sort by column index in descending order"
   ]
  },
  {
   "cell_type": "markdown",
   "id": "04a21b44-0b53-4142-8866-c9722c9d45dc",
   "metadata": {},
   "source": [
    "## Ranking"
   ]
  },
  {
   "cell_type": "markdown",
   "id": "b4960a0b-a5e5-47dd-be43-02bcebe756c7",
   "metadata": {},
   "source": [
    "Ranking is a pandas operations that assigns ranks from one through to the number of valid data points in an array. By default, equal values are assigned a rank that is the average of the ranks of those values"
   ]
  },
  {
   "cell_type": "code",
   "execution_count": 133,
   "id": "792532e8-6f91-4760-9dd5-b0bb819e1142",
   "metadata": {},
   "outputs": [
    {
     "data": {
      "text/plain": [
       "0    6\n",
       "1    3\n",
       "2   -2\n",
       "3    7\n",
       "4   -2\n",
       "5   -2\n",
       "6    3\n",
       "7    0\n",
       "8    1\n",
       "dtype: int64"
      ]
     },
     "execution_count": 133,
     "metadata": {},
     "output_type": "execute_result"
    }
   ],
   "source": [
    "obj = pd.Series([6,3,-2,7,-2,-2,3,0,1])\n",
    "obj"
   ]
  },
  {
   "cell_type": "code",
   "execution_count": 134,
   "id": "1d2503d3-4bd0-43d4-b5e9-5d9ee8c6dc49",
   "metadata": {},
   "outputs": [
    {
     "data": {
      "text/plain": [
       "0    8.0\n",
       "1    6.5\n",
       "2    2.0\n",
       "3    9.0\n",
       "4    2.0\n",
       "5    2.0\n",
       "6    6.5\n",
       "7    4.0\n",
       "8    5.0\n",
       "dtype: float64"
      ]
     },
     "execution_count": 134,
     "metadata": {},
     "output_type": "execute_result"
    }
   ],
   "source": [
    "obj.rank()"
   ]
  },
  {
   "cell_type": "markdown",
   "id": "80fb02ee-a51f-4950-8de6-99e748debd23",
   "metadata": {},
   "source": []
  },
  {
   "cell_type": "code",
   "execution_count": 137,
   "id": "18dbfff4-9787-421f-a101-e28a07086c8f",
   "metadata": {},
   "outputs": [
    {
     "data": {
      "text/plain": [
       "0    8.0\n",
       "1    6.0\n",
       "2    1.0\n",
       "3    9.0\n",
       "4    2.0\n",
       "5    3.0\n",
       "6    7.0\n",
       "7    4.0\n",
       "8    5.0\n",
       "dtype: float64"
      ]
     },
     "execution_count": 137,
     "metadata": {},
     "output_type": "execute_result"
    }
   ],
   "source": [
    "# Data can also be ranked according to the order in which they are observed.\n",
    "obj.rank(method='first')"
   ]
  },
  {
   "cell_type": "code",
   "execution_count": 138,
   "id": "84388d56-7b62-46e9-bcb8-e798bdb57554",
   "metadata": {},
   "outputs": [
    {
     "data": {
      "text/plain": [
       "0    2.0\n",
       "1    3.5\n",
       "2    8.0\n",
       "3    1.0\n",
       "4    8.0\n",
       "5    8.0\n",
       "6    3.5\n",
       "7    6.0\n",
       "8    5.0\n",
       "dtype: float64"
      ]
     },
     "execution_count": 138,
     "metadata": {},
     "output_type": "execute_result"
    }
   ],
   "source": [
    "# Ranks can also be assigned in descending order\n",
    "obj.rank(ascending=False)"
   ]
  },
  {
   "cell_type": "markdown",
   "id": "b2d8f6d5-7e91-4ab3-8252-137a2ac20fbe",
   "metadata": {},
   "source": [
    "# Computing Descriptive Statistics"
   ]
  },
  {
   "cell_type": "markdown",
   "id": "2c28fd2a-de65-474c-96cc-b246b23c24d4",
   "metadata": {},
   "source": [
    "pandas objects are equipped with a set of common mathematical and statistical methods. These methods have built-in handling for missing data."
   ]
  },
  {
   "cell_type": "code",
   "execution_count": 140,
   "id": "d1158c8f-ca2f-404b-8046-00c6afee6a47",
   "metadata": {},
   "outputs": [
    {
     "data": {
      "text/html": [
       "<div>\n",
       "<style scoped>\n",
       "    .dataframe tbody tr th:only-of-type {\n",
       "        vertical-align: middle;\n",
       "    }\n",
       "\n",
       "    .dataframe tbody tr th {\n",
       "        vertical-align: top;\n",
       "    }\n",
       "\n",
       "    .dataframe thead th {\n",
       "        text-align: right;\n",
       "    }\n",
       "</style>\n",
       "<table border=\"1\" class=\"dataframe\">\n",
       "  <thead>\n",
       "    <tr style=\"text-align: right;\">\n",
       "      <th></th>\n",
       "      <th>one</th>\n",
       "      <th>two</th>\n",
       "    </tr>\n",
       "  </thead>\n",
       "  <tbody>\n",
       "    <tr>\n",
       "      <th>a</th>\n",
       "      <td>1.0</td>\n",
       "      <td>2.0</td>\n",
       "    </tr>\n",
       "    <tr>\n",
       "      <th>b</th>\n",
       "      <td>6.0</td>\n",
       "      <td>2.0</td>\n",
       "    </tr>\n",
       "    <tr>\n",
       "      <th>c</th>\n",
       "      <td>-2.0</td>\n",
       "      <td>NaN</td>\n",
       "    </tr>\n",
       "    <tr>\n",
       "      <th>d</th>\n",
       "      <td>NaN</td>\n",
       "      <td>NaN</td>\n",
       "    </tr>\n",
       "  </tbody>\n",
       "</table>\n",
       "</div>"
      ],
      "text/plain": [
       "   one  two\n",
       "a  1.0  2.0\n",
       "b  6.0  2.0\n",
       "c -2.0  NaN\n",
       "d  NaN  NaN"
      ]
     },
     "execution_count": 140,
     "metadata": {},
     "output_type": "execute_result"
    }
   ],
   "source": [
    "df = pd.DataFrame([[1,2],[6,2],[-2, np.nan], [np.nan, np.nan]],\n",
    "                 index=['a', 'b', 'c','d'],\n",
    "                 columns=['one', 'two'])\n",
    "df"
   ]
  },
  {
   "cell_type": "code",
   "execution_count": 141,
   "id": "1618cb29-313f-4789-b60b-21d88ef4b907",
   "metadata": {},
   "outputs": [
    {
     "data": {
      "text/plain": [
       "one    5.0\n",
       "two    4.0\n",
       "dtype: float64"
      ]
     },
     "execution_count": 141,
     "metadata": {},
     "output_type": "execute_result"
    }
   ],
   "source": [
    "# the .sum() function returns the sum of the values over the requested axis.\n",
    "df.sum()"
   ]
  },
  {
   "cell_type": "code",
   "execution_count": 142,
   "id": "3d1b19b4-4d18-4169-a523-b7927b587088",
   "metadata": {},
   "outputs": [
    {
     "data": {
      "text/plain": [
       "a    3.0\n",
       "b    8.0\n",
       "c   -2.0\n",
       "d    0.0\n",
       "dtype: float64"
      ]
     },
     "execution_count": 142,
     "metadata": {},
     "output_type": "execute_result"
    }
   ],
   "source": [
    "# Passing `axis=1` to the .sum() function returns the sum of the values across the columns\n",
    "df.sum(axis=1)"
   ]
  },
  {
   "cell_type": "code",
   "execution_count": 143,
   "id": "96746a73-afa9-4322-9b28-414cbe5a84b3",
   "metadata": {},
   "outputs": [
    {
     "data": {
      "text/plain": [
       "a    1.5\n",
       "b    4.0\n",
       "c   -2.0\n",
       "d    NaN\n",
       "dtype: float64"
      ]
     },
     "execution_count": 143,
     "metadata": {},
     "output_type": "execute_result"
    }
   ],
   "source": [
    "# the .mean() function returns the mean of the values over the requested axis.\n",
    "df.mean(axis=1)"
   ]
  },
  {
   "cell_type": "code",
   "execution_count": 144,
   "id": "074acc39-6773-48ba-8be4-6e55f9e90971",
   "metadata": {},
   "outputs": [
    {
     "data": {
      "text/plain": [
       "a    1.5\n",
       "b    4.0\n",
       "c    NaN\n",
       "d    NaN\n",
       "dtype: float64"
      ]
     },
     "execution_count": 144,
     "metadata": {},
     "output_type": "execute_result"
    }
   ],
   "source": [
    "# NA values are excluded unless the entire slice is NA. This can be disabled with the `skipna` option\n",
    "df.mean(axis=1, skipna=False)"
   ]
  },
  {
   "cell_type": "code",
   "execution_count": 145,
   "id": "6030f0fa-7b0b-4116-98ef-fa4f9c767f0f",
   "metadata": {},
   "outputs": [
    {
     "data": {
      "text/html": [
       "<div>\n",
       "<style scoped>\n",
       "    .dataframe tbody tr th:only-of-type {\n",
       "        vertical-align: middle;\n",
       "    }\n",
       "\n",
       "    .dataframe tbody tr th {\n",
       "        vertical-align: top;\n",
       "    }\n",
       "\n",
       "    .dataframe thead th {\n",
       "        text-align: right;\n",
       "    }\n",
       "</style>\n",
       "<table border=\"1\" class=\"dataframe\">\n",
       "  <thead>\n",
       "    <tr style=\"text-align: right;\">\n",
       "      <th></th>\n",
       "      <th>one</th>\n",
       "      <th>two</th>\n",
       "    </tr>\n",
       "  </thead>\n",
       "  <tbody>\n",
       "    <tr>\n",
       "      <th>count</th>\n",
       "      <td>3.000000</td>\n",
       "      <td>2.0</td>\n",
       "    </tr>\n",
       "    <tr>\n",
       "      <th>mean</th>\n",
       "      <td>1.666667</td>\n",
       "      <td>2.0</td>\n",
       "    </tr>\n",
       "    <tr>\n",
       "      <th>std</th>\n",
       "      <td>4.041452</td>\n",
       "      <td>0.0</td>\n",
       "    </tr>\n",
       "    <tr>\n",
       "      <th>min</th>\n",
       "      <td>-2.000000</td>\n",
       "      <td>2.0</td>\n",
       "    </tr>\n",
       "    <tr>\n",
       "      <th>25%</th>\n",
       "      <td>-0.500000</td>\n",
       "      <td>2.0</td>\n",
       "    </tr>\n",
       "    <tr>\n",
       "      <th>50%</th>\n",
       "      <td>1.000000</td>\n",
       "      <td>2.0</td>\n",
       "    </tr>\n",
       "    <tr>\n",
       "      <th>75%</th>\n",
       "      <td>3.500000</td>\n",
       "      <td>2.0</td>\n",
       "    </tr>\n",
       "    <tr>\n",
       "      <th>max</th>\n",
       "      <td>6.000000</td>\n",
       "      <td>2.0</td>\n",
       "    </tr>\n",
       "  </tbody>\n",
       "</table>\n",
       "</div>"
      ],
      "text/plain": [
       "            one  two\n",
       "count  3.000000  2.0\n",
       "mean   1.666667  2.0\n",
       "std    4.041452  0.0\n",
       "min   -2.000000  2.0\n",
       "25%   -0.500000  2.0\n",
       "50%    1.000000  2.0\n",
       "75%    3.500000  2.0\n",
       "max    6.000000  2.0"
      ]
     },
     "execution_count": 145,
     "metadata": {},
     "output_type": "execute_result"
    }
   ],
   "source": [
    "# the .describe() function produces multiple summary statistics of the pandas object in one call\n",
    "\n",
    "df.describe()"
   ]
  },
  {
   "cell_type": "markdown",
   "id": "4bfb256e-4a85-41f0-97a4-443338ab1d11",
   "metadata": {},
   "source": [
    "# Unique Values, Value Counts, and `isin()`"
   ]
  },
  {
   "cell_type": "code",
   "execution_count": 147,
   "id": "86e5f83b-9bc2-4234-99dc-64a72db01586",
   "metadata": {},
   "outputs": [
    {
     "data": {
      "text/plain": [
       "0    c\n",
       "1    a\n",
       "2    d\n",
       "3    a\n",
       "4    a\n",
       "5    b\n",
       "6    b\n",
       "7    c\n",
       "8    c\n",
       "dtype: object"
      ]
     },
     "execution_count": 147,
     "metadata": {},
     "output_type": "execute_result"
    }
   ],
   "source": [
    "obj = pd.Series(['c', 'a', 'd', 'a', 'a', 'b', 'b', 'c', 'c'])\n",
    "obj"
   ]
  },
  {
   "cell_type": "code",
   "execution_count": 148,
   "id": "a7b3de60-6991-4392-97ae-ded488e49b32",
   "metadata": {},
   "outputs": [
    {
     "data": {
      "text/plain": [
       "array(['c', 'a', 'd', 'b'], dtype=object)"
      ]
     },
     "execution_count": 148,
     "metadata": {},
     "output_type": "execute_result"
    }
   ],
   "source": [
    "# the .unique() function returns an array of the unique values in a Series\n",
    "obj.unique()"
   ]
  },
  {
   "cell_type": "code",
   "execution_count": 149,
   "id": "6e93f8f3-4edf-49c1-a58c-aab51e131635",
   "metadata": {},
   "outputs": [
    {
     "data": {
      "text/plain": [
       "c    3\n",
       "a    3\n",
       "b    2\n",
       "d    1\n",
       "dtype: int64"
      ]
     },
     "execution_count": 149,
     "metadata": {},
     "output_type": "execute_result"
    }
   ],
   "source": [
    "# the .value_counts() function returns a Series containing the frequency of each value\n",
    "obj.value_counts()"
   ]
  },
  {
   "cell_type": "code",
   "execution_count": 151,
   "id": "e59e19c7-3d13-456e-843b-eed6e32e3af0",
   "metadata": {},
   "outputs": [
    {
     "data": {
      "text/plain": [
       "0    False\n",
       "1     True\n",
       "2     True\n",
       "3     True\n",
       "4     True\n",
       "5    False\n",
       "6    False\n",
       "7    False\n",
       "8    False\n",
       "dtype: bool"
      ]
     },
     "execution_count": 151,
     "metadata": {},
     "output_type": "execute_result"
    }
   ],
   "source": [
    "# the .isin() function can be used for filtering a dataset down to a subset of values in a Series or column in a DataFrame\n",
    "obj = pd.Series(['c', 'a', 'd', 'a', 'a', 'b', 'b', 'c', 'c'])\n",
    "mask = obj.isin(['a', 'd'])\n",
    "mask"
   ]
  },
  {
   "cell_type": "code",
   "execution_count": 152,
   "id": "0a929090-6172-4d54-8bc8-51acd7519393",
   "metadata": {},
   "outputs": [
    {
     "data": {
      "text/plain": [
       "1    a\n",
       "2    d\n",
       "3    a\n",
       "4    a\n",
       "dtype: object"
      ]
     },
     "execution_count": 152,
     "metadata": {},
     "output_type": "execute_result"
    }
   ],
   "source": [
    "obj[mask]"
   ]
  },
  {
   "cell_type": "code",
   "execution_count": null,
   "id": "e6777dbc-cf57-4fa3-a313-fd38858f1d41",
   "metadata": {},
   "outputs": [],
   "source": []
  }
 ],
 "metadata": {
  "kernelspec": {
   "display_name": "Python 3 (ipykernel)",
   "language": "python",
   "name": "python3"
  },
  "language_info": {
   "codemirror_mode": {
    "name": "ipython",
    "version": 3
   },
   "file_extension": ".py",
   "mimetype": "text/x-python",
   "name": "python",
   "nbconvert_exporter": "python",
   "pygments_lexer": "ipython3",
   "version": "3.9.6"
  }
 },
 "nbformat": 4,
 "nbformat_minor": 5
}
